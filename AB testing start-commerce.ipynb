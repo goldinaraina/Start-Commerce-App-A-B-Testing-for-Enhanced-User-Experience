{
 "cells": [
  {
   "cell_type": "markdown",
   "metadata": {},
   "source": [
    "# ``Start-Commerce App: A/B Testing for Enhanced User Experience``\n",
    "\n",
    "## Background Problem\n",
    "\n",
    "Tim Data Start-Commerce mengalami penurunan konversi situs web sebesar 10%, yang menjadi masalah utama manajemen perusahaan. Situs web merupakan jembatan utama antara pelanggan dan mitra, sehingga menjadi metrik penting sebagai penentu keberhasilan perusahaan karena revenue diperoleh dari tingkat transaksi yang terjadi.\n",
    "\n",
    "Melalui survei pengguna App, Tim Data menemukan bahwa pengguna tidak nyaman dengan tampilan ukuran ikon menu yang terlalu kecil dan banyak. Hal ini menyebabkan kesalahan klik dan pengguna merasa frustasi dengan keterlambatan dalam memuat halaman.\n",
    "\n",
    "Untuk memperbaiki masalah ini, manajemen menugaskan Tim Data untuk melakukan perbandingan antara desain aplikasi sebelumnya dan versi terbaru melalui A/B testing. Tujuannya adalah untuk mengidentifikasi perbedaan utama dan menentukan perubahan yang diperlukan untuk meningkatkan kinerja tampilan applikasi, dengan fokus pada tata letak, warna, ukuran tombol, dan navigasi.\n",
    "\n",
    "### Objective \n",
    " 1. Menentukan jumlah sampel dari data yang diperlukan untuk testing pada App.\n",
    " 2. Mengolah data untuk menentukan conversion rate App versi terbaik.\n",
    " 3. Memberikan rekomendasi manajemen perusahaan berdasarkan testing yang telah dilakukan\n",
    "\n",
    " ### Tujuan \n",
    " Meningkatkan metrik conversion rate menjadi 20% melalui A/B testing.\n",
    "\n",
    "### Pembahasan\n",
    "Perusahaan menginginkan tim data untuk melakukan tes apakah perubahan versi baru aplikasi Start-Commerce dapat memberikan pengalaman yang lebih baik kepada pengguna sehingga meningkatkan kenyamanan pengguna dalam melakukan aktivitas di aplikasi. Ini merupakan langkah yang penting dalam meningkatkan retensi pengguna, memperbaiki konversi, dan akhirnya meningkatkan keseluruhan kinerja aplikasi. Dengan melakukan A/B testing, tim data akan dapat mengidentifikasi secara objektif apakah perubahan yang diusulkan memberikan hasil yang signifikan dan layak untuk diterapkan secara luas dalam aplikasi.\n",
    "\n",
    "## 1. Menentukan Ukuran Sampel"
   ]
  },
  {
   "cell_type": "code",
   "execution_count": 33,
   "metadata": {},
   "outputs": [],
   "source": [
    "import numpy as np\n",
    "import pandas as pd\n",
    "from scipy.stats import chi2_contingency\n",
    "import seaborn as sns\n",
    "import matplotlib.pyplot as plt\n",
    "import math\n",
    "import scipy.stats as stats\n",
    "\n",
    "# seed untuk ouput yang digunakan\n",
    "np.random.seed(0)\n"
   ]
  },
  {
   "cell_type": "markdown",
   "metadata": {},
   "source": [
    "Dalam menentukan sample disarankan untuk menggunakan random sampling artinya cara menentukan user yang mendapat akses ke versi lama (control) dan versi baru (testing) dipilih secara random agar hasil eskperimen lebih general dan valid.\n",
    "\n",
    "pengolahan statistika:\n",
    "1. P-value \n",
    "2. signifikan level : probabilitas mendeteksi perubahan (jika diasumsikan tidak ada) --> 0.05\n",
    "3. power level: probabilitas mendeteksi perubahan (jika diasumsikan ada) (1 - ) --> 80%\n",
    "4. Minimum Detectable Effect (MDE) --> 2 (sangat sensitif)\n",
    "\n",
    "di sini kita menggunakan dummy data sehingga dapat disesuaikan:"
   ]
  },
  {
   "cell_type": "code",
   "execution_count": 34,
   "metadata": {},
   "outputs": [
    {
     "name": "stdout",
     "output_type": "stream",
     "text": [
      "ukuran sampel yang diperlukan per kelompok: 199\n"
     ]
    }
   ],
   "source": [
    "import math\n",
    "import scipy.stats as stats\n",
    "\n",
    "# parameter\n",
    "# tingkat signifikansi 95%\n",
    "alpha = 0.05  \n",
    "\n",
    "# probabilitas kesalahan tipe II\n",
    "beta = 0.2  \n",
    "\n",
    "# daya uji\n",
    "power = 1 - beta  \n",
    "\n",
    "# conversion rate control\n",
    "p1 = 0.1\n",
    "\n",
    "# conversion rate testing\n",
    "p2 = 0.2  \n",
    "\n",
    "# ukuran efek\n",
    "effect_size = p2 - p1  \n",
    "\n",
    "# nilai z untuk alpha dan beta\n",
    "z_alpha = stats.norm.ppf(1 - alpha/2)\n",
    "z_beta = stats.norm.ppf(power)\n",
    "\n",
    "\n",
    "# rata-rata proporsi\n",
    "p_hat = (p1 + p2) / 2\n",
    "\n",
    "# perhitung ukuran sampel\n",
    "n = ((z_alpha * math.sqrt(2 * p_hat * (1 - p_hat))\\\n",
    "       + z_beta * math.sqrt(p1 * (1 - p1) + p2 * \\\n",
    "       (1 - p2))) / effect_size) ** 2\n",
    "\n",
    "# pembulatan ke atas\n",
    "n = round(n)  \n",
    "\n",
    "# menampilkan hasil\n",
    "print(f\"ukuran sampel yang diperlukan per kelompok: {n}\")\n"
   ]
  },
  {
   "cell_type": "markdown",
   "metadata": {},
   "source": [
    "maka dalam penelitian ini akan dibutuhkan 199 sample pada setiap kelompok untuk melanjutkan A/B testing dengan tingkat signifikansi 95% dan daya uji (power) 80% untuk mendeteksi perbedaan conversion rate kedua kelompok."
   ]
  },
  {
   "cell_type": "code",
   "execution_count": 35,
   "metadata": {},
   "outputs": [
    {
     "name": "stdout",
     "output_type": "stream",
     "text": [
      "tingkat conversion rate grup control: 81.91%\n",
      "tingkat conversion rate grup testing: 100.00%\n",
      "P-value: 0.00000\n"
     ]
    },
    {
     "data": {
      "text/html": [
       "<div>\n",
       "<style scoped>\n",
       "    .dataframe tbody tr th:only-of-type {\n",
       "        vertical-align: middle;\n",
       "    }\n",
       "\n",
       "    .dataframe tbody tr th {\n",
       "        vertical-align: top;\n",
       "    }\n",
       "\n",
       "    .dataframe thead th {\n",
       "        text-align: right;\n",
       "    }\n",
       "</style>\n",
       "<table border=\"1\" class=\"dataframe\">\n",
       "  <thead>\n",
       "    <tr style=\"text-align: right;\">\n",
       "      <th></th>\n",
       "      <th>ID_user</th>\n",
       "      <th>Conversion_rate</th>\n",
       "      <th>Engagement</th>\n",
       "      <th>Group</th>\n",
       "      <th>Converted</th>\n",
       "    </tr>\n",
       "  </thead>\n",
       "  <tbody>\n",
       "    <tr>\n",
       "      <th>0</th>\n",
       "      <td>47</td>\n",
       "      <td>0.95858</td>\n",
       "      <td>219</td>\n",
       "      <td>control</td>\n",
       "      <td>1</td>\n",
       "    </tr>\n",
       "    <tr>\n",
       "      <th>1</th>\n",
       "      <td>274</td>\n",
       "      <td>1.15823</td>\n",
       "      <td>156</td>\n",
       "      <td>control</td>\n",
       "      <td>1</td>\n",
       "    </tr>\n",
       "    <tr>\n",
       "      <th>2</th>\n",
       "      <td>327</td>\n",
       "      <td>1.02332</td>\n",
       "      <td>185</td>\n",
       "      <td>control</td>\n",
       "      <td>1</td>\n",
       "    </tr>\n",
       "    <tr>\n",
       "      <th>3</th>\n",
       "      <td>393</td>\n",
       "      <td>0.95386</td>\n",
       "      <td>121</td>\n",
       "      <td>control</td>\n",
       "      <td>1</td>\n",
       "    </tr>\n",
       "    <tr>\n",
       "      <th>4</th>\n",
       "      <td>346</td>\n",
       "      <td>0.80839</td>\n",
       "      <td>322</td>\n",
       "      <td>control</td>\n",
       "      <td>1</td>\n",
       "    </tr>\n",
       "    <tr>\n",
       "      <th>...</th>\n",
       "      <td>...</td>\n",
       "      <td>...</td>\n",
       "      <td>...</td>\n",
       "      <td>...</td>\n",
       "      <td>...</td>\n",
       "    </tr>\n",
       "    <tr>\n",
       "      <th>194</th>\n",
       "      <td>300</td>\n",
       "      <td>1.61885</td>\n",
       "      <td>240</td>\n",
       "      <td>testing</td>\n",
       "      <td>1</td>\n",
       "    </tr>\n",
       "    <tr>\n",
       "      <th>195</th>\n",
       "      <td>330</td>\n",
       "      <td>0.63997</td>\n",
       "      <td>279</td>\n",
       "      <td>testing</td>\n",
       "      <td>1</td>\n",
       "    </tr>\n",
       "    <tr>\n",
       "      <th>196</th>\n",
       "      <td>136</td>\n",
       "      <td>1.75078</td>\n",
       "      <td>366</td>\n",
       "      <td>testing</td>\n",
       "      <td>1</td>\n",
       "    </tr>\n",
       "    <tr>\n",
       "      <th>197</th>\n",
       "      <td>309</td>\n",
       "      <td>1.02644</td>\n",
       "      <td>396</td>\n",
       "      <td>testing</td>\n",
       "      <td>1</td>\n",
       "    </tr>\n",
       "    <tr>\n",
       "      <th>198</th>\n",
       "      <td>235</td>\n",
       "      <td>1.02805</td>\n",
       "      <td>12</td>\n",
       "      <td>testing</td>\n",
       "      <td>1</td>\n",
       "    </tr>\n",
       "  </tbody>\n",
       "</table>\n",
       "<p>398 rows × 5 columns</p>\n",
       "</div>"
      ],
      "text/plain": [
       "     ID_user  Conversion_rate  Engagement    Group  Converted\n",
       "0         47          0.95858         219  control          1\n",
       "1        274          1.15823         156  control          1\n",
       "2        327          1.02332         185  control          1\n",
       "3        393          0.95386         121  control          1\n",
       "4        346          0.80839         322  control          1\n",
       "..       ...              ...         ...      ...        ...\n",
       "194      300          1.61885         240  testing          1\n",
       "195      330          0.63997         279  testing          1\n",
       "196      136          1.75078         366  testing          1\n",
       "197      309          1.02644         396  testing          1\n",
       "198      235          1.02805          12  testing          1\n",
       "\n",
       "[398 rows x 5 columns]"
      ]
     },
     "execution_count": 35,
     "metadata": {},
     "output_type": "execute_result"
    }
   ],
   "source": [
    "import pandas as pd\n",
    "import numpy as np\n",
    "from statsmodels.stats.proportion import proportions_ztest\n",
    "\n",
    "# ukuran sampel \n",
    "sample_size = 199\n",
    "\n",
    "# ID user\n",
    "control_users = np.arange(1, sample_size + 1)\n",
    "test_users = np.arange(sample_size + 1, 2 * sample_size + 1)\n",
    "\n",
    "# conversion rate \n",
    "conversion_rate_control = np.random.uniform(0.3, \n",
    "                                            1.5, \n",
    "                                            sample_size).round(5) \n",
    "conversion_rate_test = np.random.uniform(0.6, \n",
    "                                         1.8, \n",
    "                                         sample_size).round(5)  \n",
    "\n",
    "# engagement \n",
    "engagement_control = np.random.randint(1, \n",
    "                                       400, \n",
    "                                       sample_size)  \n",
    "engagement_test = np.random.randint(1, \n",
    "                                    400, \n",
    "                                    sample_size)  \n",
    "\n",
    "# buat DataFrame\n",
    "df_control = pd.DataFrame({\n",
    "    'ID_user': control_users,\n",
    "    'Conversion_rate': conversion_rate_control,\n",
    "    'Engagement': engagement_control,\n",
    "    'Group': 'control'\n",
    "})\n",
    "\n",
    "df_test = pd.DataFrame({\n",
    "    'ID_user': test_users,\n",
    "    'Conversion_rate': conversion_rate_test,\n",
    "    'Engagement': engagement_test,\n",
    "    'Group': 'testing'\n",
    "})\n",
    "\n",
    "# merge\n",
    "df = pd.concat([df_control, df_test])\n",
    "\n",
    "# mengacak ID \n",
    "df['ID_user'] = df['ID_user'].sample(frac=1).reset_index(drop=True)\n",
    "\n",
    "# conversion rate menjadi biner (1 jika rate > 0.5, 0 jika <= 0.5) untuk keperluan uji statistik\n",
    "df['Converted'] = (df['Conversion_rate'] > 0.5).astype(int)\n",
    "\n",
    "# mengambil data\n",
    "control_group = df[df['Group'] == 'control']['Converted']\n",
    "test_group = df[df['Group'] == 'testing']['Converted']\n",
    "\n",
    "# hitung tingkat conversion rate\n",
    "control_conversion_rate = control_group.mean()\n",
    "test_conversion_rate = test_group.mean()\n",
    "\n",
    "# uji z dua proporsi\n",
    "counts = np.array([control_group.sum(), \n",
    "                   test_group.sum()])\n",
    "nobs = np.array([sample_size, \n",
    "                 sample_size])\n",
    "stat, p_value = proportions_ztest(counts, \n",
    "                                  nobs, alternative='two-sided')\n",
    "\n",
    "# menampilkan ouput\n",
    "print(f\"tingkat conversion rate grup control: {control_conversion_rate * 100:.2f}%\")\n",
    "print(f\"tingkat conversion rate grup testing: {test_conversion_rate * 100:.2f}%\")\n",
    "print(f\"P-value: {p_value:.5f}\")\n",
    "df\n"
   ]
  },
  {
   "cell_type": "markdown",
   "metadata": {},
   "source": [
    "dummy data set dibuat mengunakan paramater yang telah ditentukan sebelumnya."
   ]
  },
  {
   "cell_type": "markdown",
   "metadata": {},
   "source": [
    " ## 2. Mengolah data untuk menentukan conversion rate App versi terbaik.\n"
   ]
  },
  {
   "cell_type": "code",
   "execution_count": 36,
   "metadata": {},
   "outputs": [
    {
     "name": "stdout",
     "output_type": "stream",
     "text": [
      "Standar Error sampel control: 0.024269725907290277\n",
      "Standar Error sampel testing: 0.024890925991216475\n"
     ]
    }
   ],
   "source": [
    "# standar deviasi sampel\n",
    "sample_std_control = np.std(df[df['Group'] \n",
    "                               == 'control']['Conversion_rate'], ddof=1)\n",
    "sample_std_testing = np.std(df[df['Group'] \n",
    "                                 == 'testing']['Conversion_rate'], ddof=1)\n",
    "\n",
    "# ukuran sampel\n",
    "sample_size_control = len(df[df['Group'] \n",
    "                             == 'control']['Conversion_rate'])\n",
    "sample_size_treatment = len(df[df['Group'] \n",
    "                               == 'testing']['Conversion_rate'])\n",
    "\n",
    "# hitung standar error\n",
    "se_control = sample_std_control / np.sqrt(sample_size_control)\n",
    "se_testing = sample_std_testing / np.sqrt(sample_size_treatment)\n",
    "\n",
    "print(\"Standar Error sampel control:\", se_control)\n",
    "print(\"Standar Error sampel testing:\", se_testing)\n"
   ]
  },
  {
   "cell_type": "markdown",
   "metadata": {},
   "source": [
    "Standar Error dari data sample yang telah ditentukan mendekati populasi yakni  0.024 untuk sampel control dan sampel testing. artinya menunjukkan bahwa variasi dalam sampel cukup dekat dengan variasi dalam populasi. selanjutnya kita dapat melihat distribusi sampel \n"
   ]
  },
  {
   "cell_type": "code",
   "execution_count": 37,
   "metadata": {},
   "outputs": [
    {
     "data": {
      "image/png": "[encoded data removed]",
      "text/plain": [
       "<Figure size 800x600 with 1 Axes>"
      ]
     },
     "metadata": {},
     "output_type": "display_data"
    }
   ],
   "source": [
    "import seaborn as sns\n",
    "import matplotlib.pyplot as plt\n",
    "\n",
    "# distribusi data conversion rate\n",
    "plt.figure(figsize=(8, 6))\n",
    "sns.histplot(df['Conversion_rate'], \n",
    "             color='blue')\n",
    "plt.title('Distribusi Conversion Rate')\n",
    "plt.xlabel('Conversion Rate')\n",
    "plt.ylabel('Count')\n",
    "plt.show()\n"
   ]
  },
  {
   "cell_type": "code",
   "execution_count": 38,
   "metadata": {},
   "outputs": [
    {
     "data": {
      "text/plain": [
       "count    398.000000\n",
       "mean       1.047362\n",
       "std        0.376097\n",
       "min        0.305630\n",
       "25%        0.761167\n",
       "50%        1.040740\n",
       "75%        1.341675\n",
       "max        1.788410\n",
       "Name: Conversion_rate, dtype: float64"
      ]
     },
     "execution_count": 38,
     "metadata": {},
     "output_type": "execute_result"
    }
   ],
   "source": [
    "df['Conversion_rate'].describe()"
   ]
  },
  {
   "cell_type": "markdown",
   "metadata": {},
   "source": [
    "dari visualisasi dan deskripsi di atas menunjukkan bahwa data berdistribusi normal dengan rata-rata tidak jauh dari mediannya yakni 1.04 "
   ]
  },
  {
   "cell_type": "code",
   "execution_count": 39,
   "metadata": {},
   "outputs": [
    {
     "name": "stderr",
     "output_type": "stream",
     "text": [
      "C:\\Users\\Lenovo\\AppData\\Local\\Temp\\ipykernel_14192\\357325491.py:3: FutureWarning: \n",
      "\n",
      "The `ci` parameter is deprecated. Use `errorbar=None` for the same effect.\n",
      "\n",
      "  sns.barplot(x='Group',\n"
     ]
    },
    {
     "data": {
      "image/png": "[encoded data removed]",
      "text/plain": [
       "<Figure size 1000x600 with 1 Axes>"
      ]
     },
     "metadata": {},
     "output_type": "display_data"
    }
   ],
   "source": [
    "# membuat visualisasi\n",
    "plt.figure(figsize=(10, 6))\n",
    "sns.barplot(x='Group', \n",
    "            y='Conversion_rate', \n",
    "            data=df, ci=None)  \n",
    "plt.title('Conversion Rate per Group')\n",
    "plt.xlabel('Group')\n",
    "plt.ylabel('Conversion Rate')\n",
    "\n",
    "# menampilkan nilai\n",
    "for index, value in enumerate(df.groupby('Group')['Conversion_rate'].mean()):\n",
    "    plt.text(index, \n",
    "             value, \n",
    "             f'{value:.2f}', \n",
    "             color='black', \n",
    "             ha='center')\n",
    "\n",
    "# menampilkan hasil\n",
    "plt.show()"
   ]
  },
  {
   "cell_type": "code",
   "execution_count": 40,
   "metadata": {},
   "outputs": [
    {
     "name": "stdout",
     "output_type": "stream",
     "text": [
      "Variansi data control: 0.1166258799317694\n",
      "Variansi data testing: 0.12267252294664276\n",
      "Menolak hipotesis nol\n"
     ]
    },
    {
     "data": {
      "text/html": [
       "<div>\n",
       "<style scoped>\n",
       "    .dataframe tbody tr th:only-of-type {\n",
       "        vertical-align: middle;\n",
       "    }\n",
       "\n",
       "    .dataframe tbody tr th {\n",
       "        vertical-align: top;\n",
       "    }\n",
       "\n",
       "    .dataframe thead th {\n",
       "        text-align: right;\n",
       "    }\n",
       "</style>\n",
       "<table border=\"1\" class=\"dataframe\">\n",
       "  <thead>\n",
       "    <tr style=\"text-align: right;\">\n",
       "      <th></th>\n",
       "      <th>Group</th>\n",
       "      <th>Conversion_rate</th>\n",
       "    </tr>\n",
       "  </thead>\n",
       "  <tbody>\n",
       "    <tr>\n",
       "      <th>0</th>\n",
       "      <td>control</td>\n",
       "      <td>0.900924</td>\n",
       "    </tr>\n",
       "    <tr>\n",
       "      <th>1</th>\n",
       "      <td>testing</td>\n",
       "      <td>1.193800</td>\n",
       "    </tr>\n",
       "  </tbody>\n",
       "</table>\n",
       "</div>"
      ],
      "text/plain": [
       "     Group  Conversion_rate\n",
       "0  control         0.900924\n",
       "1  testing         1.193800"
      ]
     },
     "execution_count": 40,
     "metadata": {},
     "output_type": "execute_result"
    }
   ],
   "source": [
    "from scipy.stats import ttest_ind\n",
    "\n",
    "# variance data\n",
    "control_variance = np.var(df[df['Group'] == 'control']['Conversion_rate'])\n",
    "testing_variance = np.var(df[df['Group'] == 'testing']['Conversion_rate'])\n",
    "\n",
    "print('Variansi data control:', control_variance)\n",
    "print('Variansi data testing:', testing_variance)\n",
    "\n",
    "\n",
    "# hipotesis nol dan alternatif\n",
    "# H0: Tidak ada perbedaan yang signifikan antara rata-rata conversion rate kelompok control dan kelompok testing\n",
    "# H1: Terdapat perbedaan yang signifikan antara rata-rata conversion rate kelompok control dan kelompok testing\n",
    "\n",
    "# tingkat signifikansi \n",
    "alpha = 0.05\n",
    "\n",
    "# hitung independent samples t-test\n",
    "t_statistic, p_value = ttest_ind(df[df['Group'] == 'control']['Conversion_rate'],\n",
    "                                  df[df['Group'] == 'testing']['Conversion_rate'],\n",
    "                                  alternative='two-sided')\n",
    "\n",
    "# bandingkan p-value dengan alpha\n",
    "if p_value < alpha:\n",
    "   print(\"Menolak hipotesis nol\")\n",
    "else:\n",
    "    print(\"Tidak cukup bukti untuk menolak hipotesis nol\")\n",
    "\n",
    "# rerata control dan testing\n",
    "mean_conversion_rate = df.groupby('Group')['Conversion_rate'].mean().reset_index()\n",
    "mean_conversion_rate\n"
   ]
  },
  {
   "cell_type": "markdown",
   "metadata": {},
   "source": [
    "meskipun terdapat perbedaan perlu untuk divalidasi lebih lanjut lagi."
   ]
  },
  {
   "cell_type": "code",
   "execution_count": 41,
   "metadata": {},
   "outputs": [
    {
     "name": "stderr",
     "output_type": "stream",
     "text": [
      "C:\\Users\\Lenovo\\AppData\\Local\\Temp\\ipykernel_14192\\1469262872.py:6: FutureWarning: \n",
      "\n",
      "Passing `palette` without assigning `hue` is deprecated and will be removed in v0.14.0. Assign the `x` variable to `hue` and set `legend=False` for the same effect.\n",
      "\n",
      "  sns.boxplot(x='Group',\n"
     ]
    },
    {
     "data": {
      "image/png": "[encoded data removed]",
      "text/plain": [
       "<Figure size 800x600 with 1 Axes>"
      ]
     },
     "metadata": {},
     "output_type": "display_data"
    }
   ],
   "source": [
    "import seaborn as sns\n",
    "import matplotlib.pyplot as plt\n",
    "\n",
    "# membuat visualisasi boxplot\n",
    "plt.figure(figsize=(8, 6))\n",
    "sns.boxplot(x='Group', \n",
    "            y='Conversion_rate', \n",
    "            data=df, \n",
    "            palette=[\"skyblue\", \n",
    "                     \"salmon\"])\n",
    "plt.title('Boxplot of Conversion Rate by Group')\n",
    "plt.xlabel('Group')\n",
    "plt.ylabel('Conversion Rate')\n",
    "plt.show()\n"
   ]
  },
  {
   "cell_type": "markdown",
   "metadata": {},
   "source": [
    "dari data visual di atas menunjukkan bahwa testing lebih tinggi dibandingkan control. "
   ]
  },
  {
   "cell_type": "code",
   "execution_count": 42,
   "metadata": {},
   "outputs": [
    {
     "data": {
      "image/png": "[encoded data removed]",
      "text/plain": [
       "<Figure size 1000x600 with 1 Axes>"
      ]
     },
     "metadata": {},
     "output_type": "display_data"
    }
   ],
   "source": [
    "import matplotlib.pyplot as plt\n",
    "\n",
    "# mengambil nilai Conversion Rate \n",
    "treatment_conversion_rate = df[df['Group'] == 'testing']['Conversion_rate']\n",
    "control_conversion_rate = df[df['Group'] == 'control']['Conversion_rate']\n",
    "\n",
    "# membuat histogram\n",
    "plt.figure(figsize=(10, 6))\n",
    "plt.hist(treatment_conversion_rate, \n",
    "         alpha=0.5, \n",
    "         label='Testing', \n",
    "         bins=30, \n",
    "         color='skyblue')\n",
    "plt.hist(control_conversion_rate, \n",
    "         alpha=0.5, \n",
    "         label='Control', \n",
    "         bins=30, \n",
    "         color='salmon')\n",
    "\n",
    "# judul dan label\n",
    "plt.title('Conversion Rate by Group')\n",
    "plt.xlabel('Conversion Rate')\n",
    "plt.ylabel('Frequency')\n",
    "plt.legend()\n",
    "\n",
    "# menampilkan ouput\n",
    "plt.show()\n"
   ]
  },
  {
   "cell_type": "markdown",
   "metadata": {},
   "source": [
    "Berdasarkan visualisasi di atas dapat terlihat bahwa conversion rate pada group testing lebih tinggi dibandingkan dengan group control. Agar lebih akukrat diperlukan analisis statistik"
   ]
  },
  {
   "cell_type": "markdown",
   "metadata": {},
   "source": [
    "## Uji Hipotesis\n",
    "\n",
    "### Rumusan Hipotesis:\n",
    "- **H0**: Varians kedua kelompok sama (tidak ada perbedaan yang signifikan dalam varian antara kelompok control dan testing).\n",
    "- **H1**: Varians kedua kelompok tidak sama (ada perbedaan yang signifikan dalam varian antara kelompok control dan testing).\n",
    "\n",
    "### Langkah-langkah Uji Hipotesis:\n",
    "1. **Uji F-Test**: \n",
    "   - Menggunakan uji F untuk membandingkan varian dari kedua kelompok.\n",
    "   - Jika nilai p-value kurang dari tingkat signifikansi, maka menolak hipotesis nol dan menyimpulkan bahwa terdapat perbedaan yang signifikan dalam varian antara kelompok control dan testing.\n",
    "\n",
    "2. **Uji T-Test**:\n",
    "   - Uji t-test digunakan untuk membandingkan rata-rata antara kedua kelompok.\n",
    "   - Jika nilai p-value dari uji t-test lebih kecil dari tingkat signifikansi  maka menolak hipotesis nol dan menyimpulkan bahwa terdapat perbedaan yang signifikan antara rata-rata kedua kelompok.\n",
    "\n",
    "3. **Analisis Bland-Altman**:\n",
    "   - Dilakukan untuk memeriksa konsistensi antara dua metode pengukuran atau dua kelompok pengukuran.\n",
    "   - Melalui plot Bland-Altman dapat melihat seberapa seragam dan sejauh mana perbedaan antara kedua kelompok.\n",
    "\n"
   ]
  },
  {
   "cell_type": "code",
   "execution_count": 43,
   "metadata": {},
   "outputs": [
    {
     "name": "stdout",
     "output_type": "stream",
     "text": [
      "Hipotesis nol ditolak. Ada perbedaan yang signifikan antara kelompok.\n",
      "F-Statistic: 70.9729812861675\n",
      "P-Value: 6.759394064343478e-16\n"
     ]
    }
   ],
   "source": [
    "from scipy.stats import f_oneway\n",
    "\n",
    "# mengambil data\n",
    "control_data = df[df['Group'] == 'control']['Conversion_rate']\n",
    "test_data = df[df['Group'] == 'testing']['Conversion_rate']\n",
    "\n",
    "# uji ANOVA\n",
    "f_stat, p_value = f_oneway(control_data,\n",
    "                           test_data)\n",
    "\n",
    "# signifikansi\n",
    "alpha = 0.05\n",
    "\n",
    "# bandingkan p-value dengan alpha\n",
    "if p_value < alpha:\n",
    "    print(\"Hipotesis nol ditolak. Ada perbedaan yang signifikan antara kelompok.\")\n",
    "else:\n",
    "    print(\"Tidak cukup bukti untuk menolak hipotesis nol. Tidak ada perbedaan yang signifikan antara kelompok.\")\n",
    "\n",
    "# tampilkan output\n",
    "print(\"F-Statistic:\", f_stat)\n",
    "print(\"P-Value:\", p_value)\n"
   ]
  },
  {
   "cell_type": "markdown",
   "metadata": {},
   "source": [
    "Hasil uji f menunjukkan bahwa ada perbedaan yang signifikan antara kedua kelompok. Hal ini ditunjukkan oleh nilai p-nilai yakni 0.00 lebih kecil dari alpha yakni 0.05. hasil uji F hanya berguna untuk mengevaluasi perbedaan dalam varians antara kelompok.\n",
    "\n",
    "selanjutnya kita melakukan uji t digunakan untuk membandingkan rata-rata antara kelompok."
   ]
  },
  {
   "cell_type": "code",
   "execution_count": 44,
   "metadata": {},
   "outputs": [
    {
     "name": "stdout",
     "output_type": "stream",
     "text": [
      "Hipotesis nol ditolak. Terdapat perbedaan yang signifikan antara kedua kelompok.\n",
      "T-Statistic: -8.424546354918316\n",
      "P-Value: 6.770727700889736e-16\n"
     ]
    }
   ],
   "source": [
    "from scipy.stats import ttest_ind\n",
    "\n",
    "# t-test\n",
    "t_stat, p_value = ttest_ind(control_data, \n",
    "                            test_data, \n",
    "                            equal_var=False)\n",
    "\n",
    "# signifikansi\n",
    "alpha = 0.05\n",
    "\n",
    "# bandingkan p-value dengan alpha\n",
    "if p_value < alpha:\n",
    "    print(\"Hipotesis nol ditolak. Terdapat perbedaan yang signifikan antara kedua kelompok.\")\n",
    "else:\n",
    "    print(\"Tidak cukup bukti untuk menolak hipotesis nol. Tidak terdapat perbedaan yang signifikan antara kedua kelompok.\")\n",
    "\n",
    "# menampilkan output\n",
    "print(\"T-Statistic:\", t_stat)\n",
    "print(\"P-Value:\", p_value)\n"
   ]
  },
  {
   "cell_type": "markdown",
   "metadata": {},
   "source": [
    "Dengan nilai p-value yakni 0.00 serta nilai t-statistic yang besar secara absolut, yaitu -8.42, artinya menolak hipotesis nol. Ini menunjukkan bahwa ada perbedaan yang signifikan antara rata-rata conversion rate antara kelompok kontrol dan kelompok testing. \n",
    "\n",
    "Dengan kata lain, terdapat bukti yang cukup untuk menyatakan bahwa testing yang diberikan memiliki dampak yang signifikan terhadap tingkat konversi dibandingkan dengan kelompok kontrol."
   ]
  },
  {
   "cell_type": "code",
   "execution_count": 45,
   "metadata": {},
   "outputs": [
    {
     "data": {
      "image/png": "[encoded data removed]",
      "text/plain": [
       "<Figure size 1000x600 with 1 Axes>"
      ]
     },
     "metadata": {},
     "output_type": "display_data"
    }
   ],
   "source": [
    "import pyCompare\n",
    "import matplotlib.pyplot as plt\n",
    "\n",
    "# ukuran \n",
    "fig, ax = plt.subplots(figsize=(10, 6))\n",
    "\n",
    "# plot Bland-Altman\n",
    "pyCompare.blandAltman(test_data, \n",
    "                      control_data, \n",
    "                      ax=ax)\n",
    "plt.show()\n"
   ]
  },
  {
   "cell_type": "code",
   "execution_count": 46,
   "metadata": {},
   "outputs": [
    {
     "data": {
      "text/html": [
       "<div>\n",
       "<style scoped>\n",
       "    .dataframe tbody tr th:only-of-type {\n",
       "        vertical-align: middle;\n",
       "    }\n",
       "\n",
       "    .dataframe tbody tr th {\n",
       "        vertical-align: top;\n",
       "    }\n",
       "\n",
       "    .dataframe thead th {\n",
       "        text-align: right;\n",
       "    }\n",
       "</style>\n",
       "<table border=\"1\" class=\"dataframe\">\n",
       "  <thead>\n",
       "    <tr style=\"text-align: right;\">\n",
       "      <th></th>\n",
       "      <th>Mean Difference</th>\n",
       "      <th>Standard Deviation of Difference</th>\n",
       "      <th>Agreement Limit</th>\n",
       "    </tr>\n",
       "  </thead>\n",
       "  <tbody>\n",
       "    <tr>\n",
       "      <th>0</th>\n",
       "      <td>0.292876</td>\n",
       "      <td>0.476426</td>\n",
       "      <td>0.933794</td>\n",
       "    </tr>\n",
       "  </tbody>\n",
       "</table>\n",
       "</div>"
      ],
      "text/plain": [
       "   Mean Difference  Standard Deviation of Difference  Agreement Limit\n",
       "0         0.292876                          0.476426         0.933794"
      ]
     },
     "execution_count": 46,
     "metadata": {},
     "output_type": "execute_result"
    }
   ],
   "source": [
    "import pandas as pd\n",
    "\n",
    "# hitung perbedaan \n",
    "difference = test_data - control_data\n",
    "\n",
    "# hitung statistik deskriptif\n",
    "mean_difference = difference.mean()\n",
    "std_difference = difference.std()\n",
    "\n",
    "# hitung batas kesepakatan (1.96 kali standar deviasi)\n",
    "agreement_limit = 1.96 * std_difference\n",
    "\n",
    "# simpan statistik ke df\n",
    "bland_altman = pd.DataFrame({\n",
    "    'Mean Difference': [mean_difference],\n",
    "    'Standard Deviation of Difference': [std_difference],\n",
    "    'Agreement Limit': [agreement_limit]\n",
    "})\n",
    "\n",
    "# tampilkan output\n",
    "bland_altman\n"
   ]
  },
  {
   "cell_type": "markdown",
   "metadata": {},
   "source": [
    "hasil dari analisis Bland-Altman, mean difference merupakan rata-rata dari selisih antara observasi pada kelompok testing dan kelompok control yakni 0.29\n",
    "\n",
    "Standard deviation of difference mengukur seberapa bervariasinya perbedaan antara dua kelompok yakni 0.47 menunjukkan variasi yang signifikan dalam perbedaan antara kedua kelompok.\n",
    "\n",
    "Agreement limit, yang dihitung sebagai 1.96 kali standard deviation of difference sebesar 0.933 di bawah 95% sehingga dapat diterima.\n",
    "\n",
    "\n",
    "\n",
    "\n",
    "\n"
   ]
  },
  {
   "cell_type": "code",
   "execution_count": 47,
   "metadata": {},
   "outputs": [
    {
     "name": "stdout",
     "output_type": "stream",
     "text": [
      "Confidence Interval: [ 0.2245296343129613 0.3612224259885461 ]\n"
     ]
    }
   ],
   "source": [
    "from statsmodels.stats.weightstats import DescrStatsW, CompareMeans\n",
    "\n",
    "# hitung confidence interval\n",
    "cm = CompareMeans(DescrStatsW(data=test_data), \n",
    "                  DescrStatsW(data=control_data))\n",
    "lower, upper = cm.tconfint_diff(alpha=0.05, \n",
    "                                alternative='two-sided',\n",
    "                                usevar='unequal')\n",
    "\n",
    "print(\"Confidence Interval:\", \"[\", lower, upper, \"]\")\n"
   ]
  },
  {
   "cell_type": "markdown",
   "metadata": {},
   "source": [
    "Confidence interval tersebut menunjukkan bahwa rerata sample control dan testing memiliki perbedaan direntang 0.2245 hingga 0.3612, pada tingkat signifikansi 0.05 (95%)\n"
   ]
  },
  {
   "cell_type": "markdown",
   "metadata": {},
   "source": [
    " ## 3. Memberikan rekomendasi manajemen perusahaan berdasarkan testing yang telah dilakukan\n",
    "### Simulasi"
   ]
  },
  {
   "cell_type": "code",
   "execution_count": 48,
   "metadata": {},
   "outputs": [
    {
     "name": "stdout",
     "output_type": "stream",
     "text": [
      "increase more than 20%: True\n",
      "the better app is: applikasi testing\n",
      "increase:  32.5084024845603\n"
     ]
    }
   ],
   "source": [
    "# coversion rate control\n",
    "control = 0.900924\n",
    "\n",
    "# coversion rate testing\n",
    "testing = 1.193800\n",
    "\n",
    "# hitung persentase kenaikan \n",
    "increase = ((testing - control) / control) * 100\n",
    "\n",
    "# validasi kenaikan \n",
    "validasi = increase > 20\n",
    "\n",
    "# output applikais\n",
    "group_better = \"applikasi testing\" if validasi else \"applikasi control\"\n",
    "\n",
    "print(\"increase more than 20%:\", validasi)\n",
    "print(\"the better app is:\", group_better)\n",
    "print(\"increase: \", increase )\n"
   ]
  },
  {
   "cell_type": "markdown",
   "metadata": {},
   "source": [
    "terjadi kenaikan sebesar 32% secara statistik berdasarkan data sample yang digunakan pada A/B testing applikasi Start-Commerce "
   ]
  },
  {
   "cell_type": "markdown",
   "metadata": {},
   "source": [
    "## Kesimpulan dan Rekomendasi"
   ]
  },
  {
   "cell_type": "markdown",
   "metadata": {},
   "source": [
    "- testing ini memerlukan 199 sampel pada setiap kelompok untuk melanjutkan A/B testing dengan tingkat signifikansi 95% dan daya uji (power) 80% untuk mendeteksi perbedaan conversion rate antara kedua kelompok.\n",
    "- Hasil uji F menunjukkan bahwa terdapat perbedaan yang signifikan antara kedua kelompok, dengan nilai p-nilai (p-value) sebesar 0.00 yang lebih kecil dari alpha (0.05). Namun, perlu diingat bahwa hasil uji F hanya berguna untuk mengevaluasi perbedaan dalam varians antara kelompok.\n",
    "- Selanjutnya, uji t digunakan untuk membandingkan rata-rata antara kedua kelompok. Dengan nilai p-value sebesar 0.00 dan nilai t-statistic sebesar -8.42, kita dapat menolak hipotesis nol dengan yakin. Hal ini menunjukkan bahwa ada perbedaan yang signifikan antara rata-rata conversion rate antara kelompok kontrol dan kelompok testing. Dengan kata lain, testing yang diberikan memiliki dampak yang signifikan terhadap tingkat konversi dibandingkan dengan kelompok kontrol.\n",
    "- Analisis Bland-Altman menunjukkan bahwa mean difference (rata-rata selisih) antara observasi pada kelompok testing dan kelompok kontrol adalah 0.29. Standard deviation of difference (standar deviasi dari selisih) sebesar 0.47, menunjukkan variasi yang signifikan dalam perbedaan antara kedua kelompok. Agreement limit yang dihitung sebagai 1.96 kali standard deviation of difference sebesar 0.933, menunjukkan bahwa hasilnya dapat diterima.\n",
    "- Confidence interval menunjukkan bahwa perbedaan rerata antara sample control dan testing berada dalam rentang 0.2245 hingga 0.3612, pada tingkat signifikansi 0.05 (95%). Ini menandakan bahwa terjadi kenaikan sebesar 32% secara statistik berdasarkan data sample yang digunakan pada A/B testing aplikasi Start-Commerce.\n",
    "\n",
    "**Kesimpulan**: Berdasarkan hasil analisis, dapat disimpulkan bahwa testing yang diberikan pada kelompok testing memiliki dampak yang signifikan terhadap tingkat konversi dibandingkan dengan kelompok kontrol. \n",
    "Rekomendasi dapat diberikan kepada manajemen perusahaan untuk menerapkan perubahan atau fitur yang diuji pada kelompok testing secara luas dalam aplikasi Start-Commerce untuk meningkatkan kinerjanya."
   ]
  },
  {
   "cell_type": "markdown",
   "metadata": {},
   "source": [
    "**Rekomendasi:**\n",
    "\n",
    "1. **A/B Testing**: Lanjutkan A/B testing antara desain aplikasi sebelumnya dan versi terbaru untuk mengidentifikasi perbedaan signifikan dalam tingkat konversi.\n",
    "\n",
    "2. **Perbaikan Desain**: Fokus pada peningkatan tata letak, ukuran tombol, warna, dan navigasi untuk meningkatkan kenyamanan pengguna.\n",
    "\n",
    "3. **Pemantauan Kinerja**: Setelah penerapan perubahan, pantau kinerja aplikasi secara berkala untuk memastikan efektivitasnya dalam meningkatkan pengalaman pengguna."
   ]
  }
 ],
 "metadata": {
  "kernelspec": {
   "display_name": "Python 3",
   "language": "python",
   "name": "python3"
  },
  "language_info": {
   "codemirror_mode": {
    "name": "ipython",
    "version": 3
   },
   "file_extension": ".py",
   "mimetype": "text/x-python",
   "name": "python",
   "nbconvert_exporter": "python",
   "pygments_lexer": "ipython3",
   "version": "3.12.3"
  }
 },
 "nbformat": 4,
 "nbformat_minor": 2
}
